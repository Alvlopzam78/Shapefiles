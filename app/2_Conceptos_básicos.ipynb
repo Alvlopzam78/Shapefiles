{
 "cells": [
  {
   "cell_type": "code",
   "execution_count": null,
   "metadata": {},
   "outputs": [],
   "source": [
    "!pip install geopandas"
   ]
  },
  {
   "cell_type": "code",
   "execution_count": null,
   "metadata": {},
   "outputs": [],
   "source": [
    "!pip install mapclassify"
   ]
  },
  {
   "cell_type": "code",
   "execution_count": null,
   "metadata": {
    "id": "nzfadm7Ur6OA"
   },
   "outputs": [],
   "source": [
    "#http://localhost:8887/lab\n",
    "import geopandas as gpd\n",
    "import matplotlib.pyplot as plt\n",
    "from mapclassify import classify\n",
    "import pandas as pd\n",
    "import numpy as np"
   ]
  },
  {
   "cell_type": "markdown",
   "metadata": {
    "id": "uVb1-48HsZOg"
   },
   "source": [
    "# **Leyendo y escribiendo archivos**"
   ]
  },
  {
   "cell_type": "markdown",
   "metadata": {
    "id": "6An0GeFyv2Gi"
   },
   "source": [
    "**GeoPandas** puede leer casi cualquier formato de datos espaciales basado en vectores, incluyendo ESRI shapefile, archivos GeoJSON y más utilizando el comando: `geopandas.read_file()`\n",
    "\n",
    "el cual devuelve un objeto `GeoDataFrame`. Esto es posible porque geopandas hace uso de la librería **fiona**"
   ]
  },
  {
   "cell_type": "markdown",
   "metadata": {
    "id": "EpoFAI98xJYV"
   },
   "source": [
    "Hay distintas formas de leer los archivos:"
   ]
  },
  {
   "cell_type": "markdown",
   "metadata": {
    "id": "PjU7zm5AxhgO"
   },
   "source": [
    "* ZIP files:\n",
    "\n",
    "`zipfile = \"zip:///Users/name/Downloads/cb_2017_us_state_500k.zip\"`\n",
    "\n",
    "`states = geopandas.read_file(zipfile)`\n",
    "\n",
    "Si el dataset se encuentra en una carpeta del archivo ZIP, deberá añadir su nombre:\n",
    "\n",
    "`zipfile = \"zip:///Users/name/Downloads/gadm36_AFG_shp.zip!data\"`\n",
    "\n",
    "\n"
   ]
  },
  {
   "cell_type": "markdown",
   "metadata": {
    "id": "KZVjAVQAyKyD"
   },
   "source": [
    "* Files desde URL:\n",
    "\n",
    "`url = \"http://d2ad6b4ur7yvpq.cloudfront.net/naturalearth-3.3.0/ne_110m_land.geojson\"`\n",
    "\n",
    "`df = geopandas.read_file(url)`"
   ]
  },
  {
   "cell_type": "markdown",
   "metadata": {
    "id": "ygcvzaMzyT_p"
   },
   "source": [
    "* O bien, importar files desde tu equipo local"
   ]
  },
  {
   "cell_type": "markdown",
   "metadata": {
    "id": "zHXP0-4ayem7"
   },
   "source": [
    "En este caso vamos a utilizar archivos desde una URL"
   ]
  },
  {
   "cell_type": "code",
   "execution_count": null,
   "metadata": {
    "id": "cx3hBCTRsVhn"
   },
   "outputs": [],
   "source": [
    "estados = gpd.read_file(r\"https://raw.githubusercontent.com/BobadillaE/Pobreza_Mexico_RStudio/main/Datasets%20empleados/formatted4.json\")"
   ]
  },
  {
   "cell_type": "code",
   "execution_count": null,
   "metadata": {
    "id": "tO91N0fcym_7"
   },
   "outputs": [],
   "source": [
    "municipios = gpd.read_file(r\"https://raw.githubusercontent.com/angelnmara/geojson/master/MunicipiosMexico.json\")"
   ]
  },
  {
   "cell_type": "markdown",
   "metadata": {
    "id": "D7D5qKdjzMo4"
   },
   "source": [
    "Para escribir un `GeoDataFrame` en un archivo con distinto formato se usa: `GeoDataFrame.to_file()`. \n",
    "\n",
    "El formato de archivo por defecto es Shapefile, pero puede especificar el suyo propio con la keyword en el `driver`:\n",
    "\n",
    "`gdf.to_file(\"my_file.geojson\", driver=\"GeoJSON\")`"
   ]
  },
  {
   "cell_type": "markdown",
   "metadata": {
    "id": "Prl_cFyDtkXQ"
   },
   "source": [
    "\n",
    "\n",
    "---\n",
    "\n"
   ]
  },
  {
   "cell_type": "markdown",
   "metadata": {
    "id": "qL4X5OdRtXn_"
   },
   "source": [
    "# **`Pandas` dataframes y `GeoPandas` Geodataframes**"
   ]
  },
  {
   "cell_type": "markdown",
   "metadata": {
    "id": "vVDwm_OGtlrx"
   },
   "source": [
    "Podemos tener dos dataframes distintos, un `pandas.DataFrame` y un `geopandas.GeoDataFrame`, y aplicar todas las funciones de pandas para juntar dos dataframes, lo que resultaría en este caso en un `geopandas.GeoDataFrame`."
   ]
  },
  {
   "cell_type": "code",
   "execution_count": null,
   "metadata": {
    "id": "-ywLqJREuII_"
   },
   "outputs": [],
   "source": [
    "pd_df = pd.read_csv(r\"https://raw.githubusercontent.com/BobadillaE/Pobreza_Mexico_RStudio/main/Datasets%20empleados/DF_MX.xlsx%20-%20Hoja1.csv\")"
   ]
  },
  {
   "cell_type": "code",
   "execution_count": null,
   "metadata": {
    "id": "0rDBkYUjuUx6"
   },
   "outputs": [],
   "source": [
    "pd_df.head()"
   ]
  },
  {
   "cell_type": "code",
   "execution_count": null,
   "metadata": {
    "id": "cYIg2NbauXou"
   },
   "outputs": [],
   "source": [
    "merged = pd.merge(estados, pd_df, on='id')"
   ]
  },
  {
   "cell_type": "code",
   "execution_count": null,
   "metadata": {
    "id": "CmseNvwavFcU"
   },
   "outputs": [],
   "source": [
    "merged.head()"
   ]
  },
  {
   "cell_type": "markdown",
   "metadata": {
    "id": "9QeyVicRtRbs"
   },
   "source": [
    "# **Algunos conceptos básicos**"
   ]
  },
  {
   "cell_type": "markdown",
   "metadata": {
    "id": "PQbw-NqJtVyn"
   },
   "source": [
    "## Áreas"
   ]
  },
  {
   "cell_type": "markdown",
   "metadata": {
    "id": "Pt5VFYVRvGm3"
   },
   "source": [
    "Para medir el `area` de cada polígono se accede al atributo `GeoDataFrame.area`, que devuelve un `pandas.Series`. Esto nos devolverá una nueva columna con el área correspondiente de cada polígono"
   ]
  },
  {
   "cell_type": "code",
   "execution_count": null,
   "metadata": {
    "id": "XYT1kixpoJv0"
   },
   "outputs": [],
   "source": [
    "estados[\"area\"] = estados.area\n",
    "municipios[\"area\"]= municipios.area"
   ]
  },
  {
   "cell_type": "code",
   "execution_count": null,
   "metadata": {
    "id": "brfrNqCPof3c"
   },
   "outputs": [],
   "source": [
    "estados.head()"
   ]
  },
  {
   "cell_type": "markdown",
   "metadata": {
    "id": "F9ng1VnXvG5S"
   },
   "source": [
    "## Límite del polígono y centroides"
   ]
  },
  {
   "cell_type": "markdown",
   "metadata": {
    "id": "X9HLZa1VvUTc"
   },
   "source": [
    "Para obtener el límite (perímetro) de cada polígono (`LineString`), acceda a `GeoDataFrame.boundary`. En este caso no tendremos una columna con puros números, sino una columna nueva de geometría"
   ]
  },
  {
   "cell_type": "code",
   "execution_count": null,
   "metadata": {
    "id": "czP_y8bFojIU"
   },
   "outputs": [],
   "source": [
    "estados['boundary'] = estados.boundary\n",
    "municipios['boundary'] = municipios.boundary"
   ]
  },
  {
   "cell_type": "code",
   "execution_count": null,
   "metadata": {
    "id": "QZ-MWywdopar"
   },
   "outputs": [],
   "source": [
    "estados.head()"
   ]
  },
  {
   "cell_type": "markdown",
   "metadata": {
    "id": "XWs6-VTUo0l4"
   },
   "source": [
    "También podemos crear nuevas geometrías, que podrían ser, por ejemplo su centroide, el cual nos devuelve igualmente una nueva columna de geometría"
   ]
  },
  {
   "cell_type": "code",
   "execution_count": null,
   "metadata": {
    "id": "8F6RgUNkorOL"
   },
   "outputs": [],
   "source": [
    "estados['centroid'] = estados.centroid\n",
    "municipios['centroid'] = municipios.centroid"
   ]
  },
  {
   "cell_type": "code",
   "execution_count": null,
   "metadata": {
    "id": "c-3auR3loyKH"
   },
   "outputs": [],
   "source": [
    "estados.head()"
   ]
  },
  {
   "cell_type": "markdown",
   "metadata": {
    "id": "6IUvdl37vUX-"
   },
   "source": [
    "## Medir distancias"
   ]
  },
  {
   "cell_type": "markdown",
   "metadata": {
    "id": "E5j-XICavW1A"
   },
   "source": [
    "También podemos medir a qué distancia se encuentra cada centroide de la ubicación de un primer centroide"
   ]
  },
  {
   "cell_type": "code",
   "execution_count": null,
   "metadata": {
    "id": "-DvW5u-Qo3Fk"
   },
   "outputs": [],
   "source": [
    "first_point = estados['centroid'].iloc[23]\n",
    "estados['distance'] = estados['centroid'].distance(first_point)"
   ]
  },
  {
   "cell_type": "code",
   "execution_count": null,
   "metadata": {
    "id": "EFo66rWuo810"
   },
   "outputs": [],
   "source": [
    "estados['distance']"
   ]
  },
  {
   "cell_type": "code",
   "execution_count": null,
   "metadata": {
    "id": "AYQ5RDG6pAID"
   },
   "outputs": [],
   "source": [
    "estados.head()"
   ]
  },
  {
   "cell_type": "markdown",
   "metadata": {
    "id": "OTVeP2eBqij6"
   },
   "source": [
    "Como `geopandas.GeoDataFrame` es una subclase de `pandas.DataFrame`, disponemos de toda la funcionalidad de pandas para utilizarla, por ejemplo, para calcular la media de las distancias medidas anteriormente, acceda a la columna 'distance' y llame al método mean() sobre ella"
   ]
  },
  {
   "cell_type": "code",
   "execution_count": null,
   "metadata": {
    "id": "7cu0D2W3pF39"
   },
   "outputs": [],
   "source": [
    "estados['distance'].mean()"
   ]
  },
  {
   "cell_type": "markdown",
   "metadata": {
    "id": "16ahhaiivhgP"
   },
   "source": [
    "\n",
    "\n",
    "---\n",
    "\n"
   ]
  },
  {
   "cell_type": "markdown",
   "metadata": {
    "id": "-vNE7MZFsgwq"
   },
   "source": [
    "# ***Indexing* y *Selecting* de datos**"
   ]
  },
  {
   "cell_type": "markdown",
   "metadata": {
    "id": "klSslQt_ss8E"
   },
   "source": [
    "Además de los métodos estándar de `pandas`, `GeoPandas` también proporciona indexación/selección basada en coordenadas con el indexador `cx`, que corta nuestro mapa utilizando una caja delimitadora. Las geometrías en el GeoSeries o GeoDataFrame que intersecan la caja delimitadora serán devueltas."
   ]
  },
  {
   "cell_type": "code",
   "execution_count": null,
   "metadata": {
    "id": "IbMEwG0jtBBY"
   },
   "outputs": [],
   "source": [
    "estados_sur = estados.cx[:, :18]\n",
    "\n",
    "estados_sur.plot(figsize=(10, 3))"
   ]
  },
  {
   "cell_type": "code",
   "execution_count": null,
   "metadata": {
    "id": "dNDvAAgetGch"
   },
   "outputs": [],
   "source": [
    "municipios_norte = municipios.cx[:, 25:]\n",
    "\n",
    "municipios_norte.plot(figsize=(10, 3))"
   ]
  },
  {
   "cell_type": "markdown",
   "metadata": {
    "id": "WTJb-U59vkpx"
   },
   "source": [
    "\n",
    "\n",
    "---\n",
    "\n"
   ]
  },
  {
   "cell_type": "markdown",
   "metadata": {
    "id": "Mmc5m4ZFsuP6"
   },
   "source": [
    "# **Haciendo mapas y usando algunas herramientas**"
   ]
  },
  {
   "cell_type": "markdown",
   "metadata": {
    "id": "q_CrfJQWx2cP"
   },
   "source": [
    "## Mapas Básicos"
   ]
  },
  {
   "cell_type": "code",
   "execution_count": null,
   "metadata": {
    "id": "4YEvmp7OxyMS"
   },
   "outputs": [],
   "source": [
    "estados.plot()"
   ]
  },
  {
   "cell_type": "code",
   "execution_count": null,
   "metadata": {
    "id": "60kKEba_x5ne"
   },
   "outputs": [],
   "source": [
    "municipios.boundary.plot()"
   ]
  },
  {
   "cell_type": "code",
   "execution_count": null,
   "metadata": {
    "id": "ufg-5kJiyA6y"
   },
   "outputs": [],
   "source": [
    "merged.centroid.plot()"
   ]
  },
  {
   "cell_type": "markdown",
   "metadata": {
    "id": "3vjfAfOfs8SB"
   },
   "source": [
    "## Choropleth Maps"
   ]
  },
  {
   "cell_type": "markdown",
   "metadata": {
    "id": "8OZqdTCIuCDV"
   },
   "source": [
    "`GeoPandas` facilita la creación de mapas *Choropleth* (mapas en los que el color de cada forma se basa en el valor de una variable asociada).\n",
    "\n",
    "Sólo habría que utilizar el comando `plot` con el argumento `column` ajustado a la columna cuyos valores desea utilizar para asignar colores"
   ]
  },
  {
   "cell_type": "code",
   "execution_count": null,
   "metadata": {
    "id": "W-ukMExhv9UY"
   },
   "outputs": [],
   "source": [
    "merged.plot(column='pibPC', legend=True)"
   ]
  },
  {
   "cell_type": "markdown",
   "metadata": {
    "id": "z6uh8IMQxfrG"
   },
   "source": [
    "Se puede modificar el label con `matplotlib`"
   ]
  },
  {
   "cell_type": "code",
   "execution_count": null,
   "metadata": {
    "id": "HI_ybQDWxBXe"
   },
   "outputs": [],
   "source": [
    "fig, ax = plt.subplots(1, 1)\n",
    "merged.plot(column='pibPC',\n",
    "           ax=ax,\n",
    "           legend=True,\n",
    "           legend_kwds={'label': \"PIB per Capita de los estados Mexicanos\",\n",
    "                        'orientation': \"horizontal\"})"
   ]
  },
  {
   "cell_type": "markdown",
   "metadata": {
    "id": "u15I1_aBxmPF"
   },
   "source": [
    "O incluso el color"
   ]
  },
  {
   "cell_type": "code",
   "execution_count": null,
   "metadata": {
    "id": "UvTtfKOoxl5S"
   },
   "outputs": [],
   "source": [
    "fig, ax = plt.subplots(1, 1)\n",
    "merged.plot(column='pibPC',\n",
    "           ax=ax,\n",
    "           legend=True,\n",
    "            cmap= 'coolwarm',\n",
    "           legend_kwds={'label': \"PIB per Capita de los estados Mexicanos\",\n",
    "                        'orientation': \"horizontal\"})"
   ]
  },
  {
   "cell_type": "markdown",
   "metadata": {
    "id": "ktVLtDtzyTVr"
   },
   "source": [
    "La opción de `scheme` puede establecerse en cualquier esquema proporcionado por `mapclassify` (p. ej. 'box_plot', 'equal_interval', 'fisher_jenks', 'fisher_jenks_sampled', 'headtail_breaks', 'jenks_caspall', 'jenks_caspall_forced', 'jenks_caspall_sampled', 'max_p_classifier', 'maximum_breaks', 'natural_breaks', 'quantiles', 'percentiles', 'std_mean' o 'user_defined')."
   ]
  },
  {
   "cell_type": "code",
   "execution_count": null,
   "metadata": {
    "id": "eGzJNYsoyS0P"
   },
   "outputs": [],
   "source": [
    "merged.plot(column='pibPC', cmap='OrRd', scheme='quantiles', legend=True)"
   ]
  },
  {
   "cell_type": "markdown",
   "metadata": {
    "id": "-k4dNs8_uWhw"
   },
   "source": [
    "## Mapas con distintas *layers*"
   ]
  },
  {
   "cell_type": "markdown",
   "metadata": {
    "id": "YWJ41bQn0pzY"
   },
   "source": [
    "### Proyecciones"
   ]
  },
  {
   "cell_type": "markdown",
   "metadata": {
    "id": "eB7VXjN_ublp"
   },
   "source": [
    "Antes de aplicar distintas *layers* de poligonos tenemos que asegurarnos que se encuentren en el mismo *CRS* (*Coordinate Reference Systems*)\n",
    "\n",
    "El CRS es importante porque las formas geométricas en un objeto GeoSeries o GeoDataFrame son simplemente una colección de coordenadas en un espacio arbitrario. Un CRS le dice a Python cómo se relacionan esas coordenadas con lugares de la Tierra"
   ]
  },
  {
   "cell_type": "markdown",
   "metadata": {
    "id": "tt5zzPC40R5r"
   },
   "source": [
    "Como referencia, algunas proyecciones muy comunes y sus códigos EPSG:\n",
    "\n",
    "* Latitud/Longitud WGS84: \"EPSG:4326\"\n",
    "\n",
    "* Zonas UTM (Norte): \"EPSG:32633\"\n",
    "\n",
    "* Zonas UTM (Sur): \"EPSG:32733\""
   ]
  },
  {
   "cell_type": "markdown",
   "metadata": {
    "id": "HDaqqtuY0ZPX"
   },
   "source": [
    "Para revisar nuestro CRS simplemente usamos el comando `GeoDataFrame.crs`"
   ]
  },
  {
   "cell_type": "code",
   "execution_count": null,
   "metadata": {
    "id": "0DtlHuvK0G4Y"
   },
   "outputs": [],
   "source": [
    "estados.crs"
   ]
  },
  {
   "cell_type": "markdown",
   "metadata": {
    "id": "C8kQV1vI0lTf"
   },
   "source": [
    "Para cambiar nuestro CRS"
   ]
  },
  {
   "cell_type": "code",
   "execution_count": null,
   "metadata": {
    "id": "cfoa97Tc09vQ"
   },
   "outputs": [],
   "source": [
    "municipios = municipios.to_crs(estados.crs)\n"
   ]
  },
  {
   "cell_type": "markdown",
   "metadata": {
    "id": "gQheMGo80xHl"
   },
   "source": [
    "Una vez que tenemos nuestros CRS en orden, tenemos dos formas de hacer `plots` con distintas `layers` de polígonos, lineas o centroides"
   ]
  },
  {
   "cell_type": "markdown",
   "metadata": {
    "id": "WG-fo0l-1YP1"
   },
   "source": [
    "**Método 1**"
   ]
  },
  {
   "cell_type": "code",
   "execution_count": null,
   "metadata": {
    "id": "CbIvOaPT1c0N"
   },
   "outputs": [],
   "source": [
    "base = estados.plot(color='white', edgecolor='black')\n",
    "\n",
    "municipios.centroid.plot(ax=base, marker='*', color='red', markersize=5)"
   ]
  },
  {
   "cell_type": "markdown",
   "metadata": {
    "id": "xz7D5KuK1xPL"
   },
   "source": [
    "**Método 2: usando objetos de `matplotlib`**"
   ]
  },
  {
   "cell_type": "code",
   "execution_count": null,
   "metadata": {
    "id": "qhIbZqRz17Ek"
   },
   "outputs": [],
   "source": [
    "fig, ax = plt.subplots()\n",
    "ax.set_aspect('equal')\n",
    "estados.plot(ax=ax, color='white', edgecolor='black')\n",
    "municipios.centroid.plot(ax=ax, marker='*', color='red', markersize=5)\n",
    "plt.show()"
   ]
  },
  {
   "cell_type": "markdown",
   "metadata": {
    "id": "DtZI4PtQ2Okx"
   },
   "source": [
    "### Controlar el orden de varias *layers* en un *plot*"
   ]
  },
  {
   "cell_type": "markdown",
   "metadata": {
    "id": "Iwtgiz1k2n-Z"
   },
   "source": [
    "Al trazar varias *layers*, utilice `zorder` para controlar el orden de las *layers* trazadas. Cuanto más bajo sea el `zorder`, más abajo estará la capa en el mapa y viceversa."
   ]
  },
  {
   "cell_type": "code",
   "execution_count": null,
   "metadata": {
    "id": "VIyRsxMA26gi"
   },
   "outputs": [],
   "source": [
    "mdf1.plot(ax=municipios.centroid.plot(color='red',markersize=0.1), color='white', edgecolor='black')"
   ]
  },
  {
   "cell_type": "code",
   "execution_count": null,
   "metadata": {
    "id": "ezemujuW3bOw"
   },
   "outputs": [],
   "source": [
    "mdf1.plot(ax=municipios.centroid.plot(color='red',markersize=0.1, zorder=2), color='white', edgecolor='black', zorder=1);"
   ]
  },
  {
   "cell_type": "markdown",
   "metadata": {
    "id": "JNQqzd07uCfC"
   },
   "source": [
    "## Datos faltantes"
   ]
  },
  {
   "cell_type": "markdown",
   "metadata": {
    "id": "KvdZ5iLUuI0Z"
   },
   "source": [
    "En algunos casos, es posible que se desee hacer *plots* con datos que contengan *missing values*, ya que para algunas características simplemente se desconoce el valor. Esto es posible con la librería de `numpy`"
   ]
  },
  {
   "cell_type": "code",
   "execution_count": null,
   "metadata": {
    "id": "Kl8oCmx55waJ"
   },
   "outputs": [],
   "source": [
    "merged_nan = pd.merge(estados, pd_df, on='id')\n",
    "merged_nan.loc[np.random.choice(merged_nan.index, 30), 'pibPC'] = np.nan\n",
    "merged_nan.plot(column='pibPC')"
   ]
  },
  {
   "cell_type": "code",
   "execution_count": null,
   "metadata": {
    "id": "uCsq5srg5z0L"
   },
   "outputs": [],
   "source": [
    "merged_nan.plot(\n",
    "    column=\"pibPC\",\n",
    "    cmap= 'OrRd',\n",
    "    legend=True,\n",
    "    missing_kwds={\n",
    "        \"color\": \"lightgrey\",\n",
    "        \"edgecolor\": \"red\",\n",
    "        \"hatch\": \"///\",\n",
    "        \"label\": \"Missing values\",\n",
    "    },\n",
    ")"
   ]
  },
  {
   "cell_type": "markdown",
   "metadata": {
    "id": "U_qi731CufXy"
   },
   "source": [
    "## *Plots* de Pandas\n",
    "\n"
   ]
  },
  {
   "cell_type": "markdown",
   "metadata": {
    "id": "b685BL0qukuC"
   },
   "source": [
    "Los métodos de plotting también permiten diferentes estilos de ploteo desde `pandas` junto con el ploteo `geo` por defecto. Se puede acceder a estos métodos utilizando el argumento kind keyword en plot(), e incluyen\n",
    "\n",
    "* `geo` para trazado de mapas\n",
    "\n",
    "* `line` para gráficos de líneas\n",
    "\n",
    "* `bar` o barh para gráficos de barras\n",
    "\n",
    "* `hist` para histograma\n",
    "\n",
    "* `box` para boxplot\n",
    "\n",
    "* `kde` o `density` para gráficos de densidad\n",
    "\n",
    "* `area` para gráficos de área\n",
    "\n",
    "* `scatter` para gráficos de dispersión\n",
    "\n",
    "* `hexbin` para gráficos hexagonales\n",
    "\n",
    "* `pie` para gráficos circulares"
   ]
  },
  {
   "cell_type": "code",
   "execution_count": null,
   "metadata": {
    "id": "xjBx2PxE6sDs"
   },
   "outputs": [],
   "source": [
    "merged.plot(kind='scatter', x=\"pibPC\", y=\"pob_ind\")"
   ]
  },
  {
   "cell_type": "markdown",
   "metadata": {
    "id": "UvW8gR86vmi_"
   },
   "source": [
    "\n",
    "\n",
    "---\n",
    "\n"
   ]
  },
  {
   "cell_type": "markdown",
   "metadata": {
    "id": "Vw2BIhjks8wd"
   },
   "source": [
    "# **Mapas interactivos**"
   ]
  },
  {
   "cell_type": "markdown",
   "metadata": {
    "id": "iyJPecirtKJV"
   },
   "source": [
    "Además de los gráficos estáticos, `geopandas` puede crear mapas interactivos basados en la biblioteca `folium`\n",
    "\n",
    "La opción más sencilla es utilizar `GeoDataFrame.explore()`:"
   ]
  },
  {
   "cell_type": "code",
   "execution_count": null,
   "metadata": {
    "id": "XTrE7Ebu7j9H"
   },
   "outputs": [],
   "source": [
    "estados.explore()"
   ]
  },
  {
   "cell_type": "code",
   "execution_count": null,
   "metadata": {
    "id": "QpuSWOv47sFK"
   },
   "outputs": [],
   "source": [
    "municipios.centroid.explore()"
   ]
  },
  {
   "cell_type": "code",
   "execution_count": null,
   "metadata": {
    "id": "ZKz5e-BL7uhm"
   },
   "outputs": [],
   "source": [
    "merged.boundary.explore()"
   ]
  },
  {
   "cell_type": "markdown",
   "metadata": {
    "id": "4QNjqO4j8W4d"
   },
   "source": [
    "Un poco más complejo"
   ]
  },
  {
   "cell_type": "code",
   "execution_count": null,
   "metadata": {
    "id": "uLklDwj08XKU"
   },
   "outputs": [],
   "source": [
    "estados.explore(\n",
    "     column=\"name\", # make choropleth based on \"pibPC\" column\n",
    "     tooltip=\"name\", # show \"pibPC\" value in tooltip (on hover)\n",
    "     popup=True, # show all values in popup (on click)\n",
    "     tiles=\"CartoDB positron\", # use \"CartoDB positron\" tiles\n",
    "     cmap=\"Set1\", # use \"Set1\" matplotlib colormap\n",
    "     style_kwds=dict(color=\"black\") # use black outline\n",
    "    )"
   ]
  },
  {
   "cell_type": "code",
   "execution_count": null,
   "metadata": {
    "id": "x-X0PIeUAVjk"
   },
   "outputs": [],
   "source": [
    "import folium\n",
    "\n",
    "\n",
    "m = merged.explore(\n",
    "     column=\"pibPC\", \n",
    "     cmap='OrRd',\n",
    "     scheme='quantiles',\n",
    "     legend=True, \n",
    "     k=10, \n",
    "     legend_kwds=dict(colorbar=False), \n",
    "     name=\"Estados\"\n",
    ")\n",
    "\n",
    "municipios.centroid.explore(\n",
    "     m=m, # pass the map object\n",
    "     color=\"k\", \n",
    "     marker_kwds=dict(radius=2, fill=True), \n",
    "     name=\"Municipios\" \n",
    ")\n",
    "\n",
    "folium.TileLayer('Stamen Toner', control=True).add_to(m)  # use folium to add alternative tiles\n",
    "folium.LayerControl().add_to(m)  # use folium to add layer control\n",
    "\n",
    "m "
   ]
  },
  {
   "cell_type": "markdown",
   "metadata": {
    "id": "bk9JvPGvvnni"
   },
   "source": [
    "\n",
    "\n",
    "---\n",
    "\n"
   ]
  },
  {
   "cell_type": "markdown",
   "metadata": {
    "id": "Iu8wMvdjCwOJ"
   },
   "source": [
    "# **GeoCoding**"
   ]
  },
  {
   "cell_type": "markdown",
   "metadata": {
    "id": "qQZoCcrUCy9u"
   },
   "source": [
    "`GeoPandas` admite la geocodificación (es decir, la conversión de nombres de lugares a ubicaciones en la Tierra) a través de `geopy`, una dependencia opcional de geopandas\n",
    "\n",
    "El siguiente ejemplo muestra cómo obtener las ubicaciones de los estados de México y traza esas ubicaciones junto con el archivo detallado de los límites de los estados"
   ]
  },
  {
   "cell_type": "code",
   "execution_count": null,
   "metadata": {
    "id": "HXV29vSKCzno"
   },
   "outputs": [],
   "source": [
    "estados_geocoding = gpd.tools.geocode(estados.name)"
   ]
  },
  {
   "cell_type": "code",
   "execution_count": null,
   "metadata": {
    "id": "O6fRXP_kDap8"
   },
   "outputs": [],
   "source": [
    "estados_geocoding"
   ]
  },
  {
   "cell_type": "code",
   "execution_count": null,
   "metadata": {
    "id": "IExD82lADb2K"
   },
   "outputs": [],
   "source": [
    "fig, ax = plt.subplots()\n",
    "\n",
    "estados.plot(ax=ax, color=\"white\", edgecolor=\"black\");\n",
    "\n",
    "estados_geocoding.plot(ax=ax, color=\"red\")"
   ]
  }
 ],
 "metadata": {
  "colab": {
   "authorship_tag": "ABX9TyO4omISUU3uqWCoxnmdvzUe",
   "provenance": []
  },
  "kernelspec": {
   "display_name": "Python 3 (ipykernel)",
   "language": "python",
   "name": "python3"
  },
  "language_info": {
   "codemirror_mode": {
    "name": "ipython",
    "version": 3
   },
   "file_extension": ".py",
   "mimetype": "text/x-python",
   "name": "python",
   "nbconvert_exporter": "python",
   "pygments_lexer": "ipython3",
   "version": "3.10.8"
  }
 },
 "nbformat": 4,
 "nbformat_minor": 4
}
